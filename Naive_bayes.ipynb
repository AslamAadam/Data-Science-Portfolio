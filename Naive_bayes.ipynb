{
  "cells": [
    {
      "cell_type": "code",
      "execution_count": 1,
      "id": "2c0df657-7977-44b4-bc6e-ab27b508d516",
      "metadata": {
        "id": "2c0df657-7977-44b4-bc6e-ab27b508d516"
      },
      "outputs": [],
      "source": [
        "import pandas as pd\n",
        "import numpy as np\n",
        "import matplotlib.pyplot as plt\n",
        "import seaborn as sns\n",
        "import warnings\n",
        "warnings.filterwarnings('ignore')"
      ]
    },
    {
      "cell_type": "markdown",
      "id": "9c7fb1ed-d0f1-4551-bca5-54503bc4a618",
      "metadata": {
        "id": "9c7fb1ed-d0f1-4551-bca5-54503bc4a618"
      },
      "source": [
        "## 1.Data Exploration and Preprocessing\n"
      ]
    },
    {
      "cell_type": "code",
      "execution_count": null,
      "id": "d486c759-19c0-4010-9e3b-03ea3de5ced5",
      "metadata": {
        "id": "d486c759-19c0-4010-9e3b-03ea3de5ced5"
      },
      "outputs": [],
      "source": [
        "df=pd.read_csv('blogs.csv')"
      ]
    },
    {
      "cell_type": "code",
      "execution_count": null,
      "id": "4176d47e-644f-4368-8715-0414cff62626",
      "metadata": {
        "id": "4176d47e-644f-4368-8715-0414cff62626",
        "outputId": "4e742ea5-20ea-484c-f97d-a64b6a46c645"
      },
      "outputs": [
        {
          "data": {
            "text/html": [
              "<div>\n",
              "<style scoped>\n",
              "    .dataframe tbody tr th:only-of-type {\n",
              "        vertical-align: middle;\n",
              "    }\n",
              "\n",
              "    .dataframe tbody tr th {\n",
              "        vertical-align: top;\n",
              "    }\n",
              "\n",
              "    .dataframe thead th {\n",
              "        text-align: right;\n",
              "    }\n",
              "</style>\n",
              "<table border=\"1\" class=\"dataframe\">\n",
              "  <thead>\n",
              "    <tr style=\"text-align: right;\">\n",
              "      <th></th>\n",
              "      <th>Data</th>\n",
              "      <th>Labels</th>\n",
              "    </tr>\n",
              "  </thead>\n",
              "  <tbody>\n",
              "    <tr>\n",
              "      <th>0</th>\n",
              "      <td>Path: cantaloupe.srv.cs.cmu.edu!magnesium.club...</td>\n",
              "      <td>alt.atheism</td>\n",
              "    </tr>\n",
              "    <tr>\n",
              "      <th>1</th>\n",
              "      <td>Newsgroups: alt.atheism\\nPath: cantaloupe.srv....</td>\n",
              "      <td>alt.atheism</td>\n",
              "    </tr>\n",
              "    <tr>\n",
              "      <th>2</th>\n",
              "      <td>Path: cantaloupe.srv.cs.cmu.edu!das-news.harva...</td>\n",
              "      <td>alt.atheism</td>\n",
              "    </tr>\n",
              "    <tr>\n",
              "      <th>3</th>\n",
              "      <td>Path: cantaloupe.srv.cs.cmu.edu!magnesium.club...</td>\n",
              "      <td>alt.atheism</td>\n",
              "    </tr>\n",
              "    <tr>\n",
              "      <th>4</th>\n",
              "      <td>Xref: cantaloupe.srv.cs.cmu.edu alt.atheism:53...</td>\n",
              "      <td>alt.atheism</td>\n",
              "    </tr>\n",
              "  </tbody>\n",
              "</table>\n",
              "</div>"
            ],
            "text/plain": [
              "                                                Data       Labels\n",
              "0  Path: cantaloupe.srv.cs.cmu.edu!magnesium.club...  alt.atheism\n",
              "1  Newsgroups: alt.atheism\\nPath: cantaloupe.srv....  alt.atheism\n",
              "2  Path: cantaloupe.srv.cs.cmu.edu!das-news.harva...  alt.atheism\n",
              "3  Path: cantaloupe.srv.cs.cmu.edu!magnesium.club...  alt.atheism\n",
              "4  Xref: cantaloupe.srv.cs.cmu.edu alt.atheism:53...  alt.atheism"
            ]
          },
          "execution_count": 6,
          "metadata": {},
          "output_type": "execute_result"
        }
      ],
      "source": [
        "df.head()"
      ]
    },
    {
      "cell_type": "code",
      "execution_count": null,
      "id": "d160bda8-f9c2-4310-8291-fc794a070b12",
      "metadata": {
        "id": "d160bda8-f9c2-4310-8291-fc794a070b12",
        "outputId": "cffa9e57-79e1-4958-b11f-09fa55d0df58"
      },
      "outputs": [
        {
          "data": {
            "text/plain": [
              "(2000, 2)"
            ]
          },
          "execution_count": 8,
          "metadata": {},
          "output_type": "execute_result"
        }
      ],
      "source": [
        "df.shape"
      ]
    },
    {
      "cell_type": "code",
      "execution_count": null,
      "id": "304a5abc-4573-46e0-84ea-8b492f634138",
      "metadata": {
        "id": "304a5abc-4573-46e0-84ea-8b492f634138",
        "outputId": "086dd804-99f3-43ba-fa6f-31a3b65af39e"
      },
      "outputs": [
        {
          "data": {
            "text/plain": [
              "4000"
            ]
          },
          "execution_count": 10,
          "metadata": {},
          "output_type": "execute_result"
        }
      ],
      "source": [
        "df.size"
      ]
    },
    {
      "cell_type": "code",
      "execution_count": null,
      "id": "333bad13-51db-4e2f-84dd-bdaeb284f1d5",
      "metadata": {
        "id": "333bad13-51db-4e2f-84dd-bdaeb284f1d5",
        "outputId": "0ece10f1-2e6e-408c-8540-9e69ab46c024"
      },
      "outputs": [
        {
          "data": {
            "text/plain": [
              "Data      0\n",
              "Labels    0\n",
              "dtype: int64"
            ]
          },
          "execution_count": 12,
          "metadata": {},
          "output_type": "execute_result"
        }
      ],
      "source": [
        "df.isnull().sum()"
      ]
    },
    {
      "cell_type": "code",
      "execution_count": null,
      "id": "1421c5dd-cd71-4142-a996-bc5905dc4b4d",
      "metadata": {
        "id": "1421c5dd-cd71-4142-a996-bc5905dc4b4d",
        "outputId": "7631e8e6-8adc-4337-b003-014471f5c3a9"
      },
      "outputs": [
        {
          "name": "stderr",
          "output_type": "stream",
          "text": [
            "[nltk_data] Downloading package punkt to\n",
            "[nltk_data]     C:\\Users\\Lenovo\\AppData\\Roaming\\nltk_data...\n",
            "[nltk_data]   Package punkt is already up-to-date!\n",
            "[nltk_data] Downloading package stopwords to\n",
            "[nltk_data]     C:\\Users\\Lenovo\\AppData\\Roaming\\nltk_data...\n",
            "[nltk_data]   Package stopwords is already up-to-date!\n"
          ]
        },
        {
          "data": {
            "text/plain": [
              "True"
            ]
          },
          "execution_count": 14,
          "metadata": {},
          "output_type": "execute_result"
        }
      ],
      "source": [
        "from nltk.corpus import stopwords\n",
        "from nltk.tokenize import word_tokenize\n",
        "import re\n",
        "import nltk\n",
        "\n",
        "nltk.download('punkt')\n",
        "nltk.download('stopwords')\n"
      ]
    },
    {
      "cell_type": "code",
      "execution_count": null,
      "id": "df14b1e8-53e8-4290-840b-a68201886aaa",
      "metadata": {
        "id": "df14b1e8-53e8-4290-840b-a68201886aaa"
      },
      "outputs": [],
      "source": [
        "# Data cleaning function\n",
        "def clean_text(text):\n",
        "    text = text.lower()  # Convert to lowercase\n",
        "    text = re.sub(r'[^\\w\\s]', '', text)  # Remove punctuation\n",
        "    text = re.sub(r'\\d+', '', text)  # Remove numbers\n",
        "    text = text.strip()  # Remove leading/trailing whitespace\n",
        "    return text\n"
      ]
    },
    {
      "cell_type": "code",
      "execution_count": null,
      "id": "c30589b0-4a3d-47c8-bc26-e6023bc7a653",
      "metadata": {
        "id": "c30589b0-4a3d-47c8-bc26-e6023bc7a653"
      },
      "outputs": [],
      "source": [
        "df['Data'] = df['Data'].apply(clean_text)"
      ]
    },
    {
      "cell_type": "code",
      "execution_count": null,
      "id": "ceada32e-4855-4e31-96ad-4933a1a73719",
      "metadata": {
        "id": "ceada32e-4855-4e31-96ad-4933a1a73719"
      },
      "outputs": [],
      "source": [
        "# Tokenize and remove stopwords\n",
        "stop_words = set(stopwords.words('english'))\n",
        "df['Data'] = df['Data'].apply(lambda x: ' '.join([word for word in word_tokenize(x) if word not in stop_words]))\n"
      ]
    },
    {
      "cell_type": "code",
      "execution_count": null,
      "id": "01684112-4fb0-46c2-8704-7c96f0c06170",
      "metadata": {
        "id": "01684112-4fb0-46c2-8704-7c96f0c06170"
      },
      "outputs": [],
      "source": [
        "from sklearn.model_selection import train_test_split\n",
        "from sklearn.feature_extraction.text import TfidfVectorizer\n",
        "from sklearn.naive_bayes import MultinomialNB\n",
        "from sklearn.metrics import accuracy_score, precision_score, recall_score, f1_score, classification_report"
      ]
    },
    {
      "cell_type": "code",
      "execution_count": null,
      "id": "a533477e-ca4f-4f9f-b5a8-f2ebc84903d8",
      "metadata": {
        "id": "a533477e-ca4f-4f9f-b5a8-f2ebc84903d8"
      },
      "outputs": [],
      "source": [
        "# Feature extraction using TF-IDF\n",
        "tfidf = TfidfVectorizer(max_features=5000)\n",
        "X = tfidf.fit_transform(df['Data']).toarray()\n",
        "y = df['Labels']"
      ]
    },
    {
      "cell_type": "code",
      "execution_count": null,
      "id": "d7beafaa-5975-4276-8682-e220fbc653d9",
      "metadata": {
        "id": "d7beafaa-5975-4276-8682-e220fbc653d9",
        "outputId": "74573fa4-cea6-4abe-b274-0e4314db0c1c"
      },
      "outputs": [
        {
          "name": "stdout",
          "output_type": "stream",
          "text": [
            "(2000, 5000) (2000,)\n"
          ]
        }
      ],
      "source": [
        "print(X.shape, y.shape)"
      ]
    },
    {
      "cell_type": "markdown",
      "id": "8f822151-22c2-4b52-875c-d160f53f4780",
      "metadata": {
        "id": "8f822151-22c2-4b52-875c-d160f53f4780"
      },
      "source": [
        "### 2. Naive Bayes Model for Text Classification"
      ]
    },
    {
      "cell_type": "code",
      "execution_count": null,
      "id": "2ca0b964-4c68-4c68-92d5-acb8488fe6a7",
      "metadata": {
        "id": "2ca0b964-4c68-4c68-92d5-acb8488fe6a7"
      },
      "outputs": [],
      "source": [
        "x_train,x_test,y_train,y_test = train_test_split(X, y, test_size=0.2, random_state=42)"
      ]
    },
    {
      "cell_type": "code",
      "execution_count": null,
      "id": "f7f23a80-8405-4665-9a9c-594db3269664",
      "metadata": {
        "id": "f7f23a80-8405-4665-9a9c-594db3269664",
        "outputId": "a2cd670c-d5fe-43f6-8144-e2aba6e3b73c"
      },
      "outputs": [
        {
          "data": {
            "text/html": [
              "<style>#sk-container-id-1 {\n",
              "  /* Definition of color scheme common for light and dark mode */\n",
              "  --sklearn-color-text: black;\n",
              "  --sklearn-color-line: gray;\n",
              "  /* Definition of color scheme for unfitted estimators */\n",
              "  --sklearn-color-unfitted-level-0: #fff5e6;\n",
              "  --sklearn-color-unfitted-level-1: #f6e4d2;\n",
              "  --sklearn-color-unfitted-level-2: #ffe0b3;\n",
              "  --sklearn-color-unfitted-level-3: chocolate;\n",
              "  /* Definition of color scheme for fitted estimators */\n",
              "  --sklearn-color-fitted-level-0: #f0f8ff;\n",
              "  --sklearn-color-fitted-level-1: #d4ebff;\n",
              "  --sklearn-color-fitted-level-2: #b3dbfd;\n",
              "  --sklearn-color-fitted-level-3: cornflowerblue;\n",
              "\n",
              "  /* Specific color for light theme */\n",
              "  --sklearn-color-text-on-default-background: var(--sg-text-color, var(--theme-code-foreground, var(--jp-content-font-color1, black)));\n",
              "  --sklearn-color-background: var(--sg-background-color, var(--theme-background, var(--jp-layout-color0, white)));\n",
              "  --sklearn-color-border-box: var(--sg-text-color, var(--theme-code-foreground, var(--jp-content-font-color1, black)));\n",
              "  --sklearn-color-icon: #696969;\n",
              "\n",
              "  @media (prefers-color-scheme: dark) {\n",
              "    /* Redefinition of color scheme for dark theme */\n",
              "    --sklearn-color-text-on-default-background: var(--sg-text-color, var(--theme-code-foreground, var(--jp-content-font-color1, white)));\n",
              "    --sklearn-color-background: var(--sg-background-color, var(--theme-background, var(--jp-layout-color0, #111)));\n",
              "    --sklearn-color-border-box: var(--sg-text-color, var(--theme-code-foreground, var(--jp-content-font-color1, white)));\n",
              "    --sklearn-color-icon: #878787;\n",
              "  }\n",
              "}\n",
              "\n",
              "#sk-container-id-1 {\n",
              "  color: var(--sklearn-color-text);\n",
              "}\n",
              "\n",
              "#sk-container-id-1 pre {\n",
              "  padding: 0;\n",
              "}\n",
              "\n",
              "#sk-container-id-1 input.sk-hidden--visually {\n",
              "  border: 0;\n",
              "  clip: rect(1px 1px 1px 1px);\n",
              "  clip: rect(1px, 1px, 1px, 1px);\n",
              "  height: 1px;\n",
              "  margin: -1px;\n",
              "  overflow: hidden;\n",
              "  padding: 0;\n",
              "  position: absolute;\n",
              "  width: 1px;\n",
              "}\n",
              "\n",
              "#sk-container-id-1 div.sk-dashed-wrapped {\n",
              "  border: 1px dashed var(--sklearn-color-line);\n",
              "  margin: 0 0.4em 0.5em 0.4em;\n",
              "  box-sizing: border-box;\n",
              "  padding-bottom: 0.4em;\n",
              "  background-color: var(--sklearn-color-background);\n",
              "}\n",
              "\n",
              "#sk-container-id-1 div.sk-container {\n",
              "  /* jupyter's `normalize.less` sets `[hidden] { display: none; }`\n",
              "     but bootstrap.min.css set `[hidden] { display: none !important; }`\n",
              "     so we also need the `!important` here to be able to override the\n",
              "     default hidden behavior on the sphinx rendered scikit-learn.org.\n",
              "     See: https://github.com/scikit-learn/scikit-learn/issues/21755 */\n",
              "  display: inline-block !important;\n",
              "  position: relative;\n",
              "}\n",
              "\n",
              "#sk-container-id-1 div.sk-text-repr-fallback {\n",
              "  display: none;\n",
              "}\n",
              "\n",
              "div.sk-parallel-item,\n",
              "div.sk-serial,\n",
              "div.sk-item {\n",
              "  /* draw centered vertical line to link estimators */\n",
              "  background-image: linear-gradient(var(--sklearn-color-text-on-default-background), var(--sklearn-color-text-on-default-background));\n",
              "  background-size: 2px 100%;\n",
              "  background-repeat: no-repeat;\n",
              "  background-position: center center;\n",
              "}\n",
              "\n",
              "/* Parallel-specific style estimator block */\n",
              "\n",
              "#sk-container-id-1 div.sk-parallel-item::after {\n",
              "  content: \"\";\n",
              "  width: 100%;\n",
              "  border-bottom: 2px solid var(--sklearn-color-text-on-default-background);\n",
              "  flex-grow: 1;\n",
              "}\n",
              "\n",
              "#sk-container-id-1 div.sk-parallel {\n",
              "  display: flex;\n",
              "  align-items: stretch;\n",
              "  justify-content: center;\n",
              "  background-color: var(--sklearn-color-background);\n",
              "  position: relative;\n",
              "}\n",
              "\n",
              "#sk-container-id-1 div.sk-parallel-item {\n",
              "  display: flex;\n",
              "  flex-direction: column;\n",
              "}\n",
              "\n",
              "#sk-container-id-1 div.sk-parallel-item:first-child::after {\n",
              "  align-self: flex-end;\n",
              "  width: 50%;\n",
              "}\n",
              "\n",
              "#sk-container-id-1 div.sk-parallel-item:last-child::after {\n",
              "  align-self: flex-start;\n",
              "  width: 50%;\n",
              "}\n",
              "\n",
              "#sk-container-id-1 div.sk-parallel-item:only-child::after {\n",
              "  width: 0;\n",
              "}\n",
              "\n",
              "/* Serial-specific style estimator block */\n",
              "\n",
              "#sk-container-id-1 div.sk-serial {\n",
              "  display: flex;\n",
              "  flex-direction: column;\n",
              "  align-items: center;\n",
              "  background-color: var(--sklearn-color-background);\n",
              "  padding-right: 1em;\n",
              "  padding-left: 1em;\n",
              "}\n",
              "\n",
              "\n",
              "/* Toggleable style: style used for estimator/Pipeline/ColumnTransformer box that is\n",
              "clickable and can be expanded/collapsed.\n",
              "- Pipeline and ColumnTransformer use this feature and define the default style\n",
              "- Estimators will overwrite some part of the style using the `sk-estimator` class\n",
              "*/\n",
              "\n",
              "/* Pipeline and ColumnTransformer style (default) */\n",
              "\n",
              "#sk-container-id-1 div.sk-toggleable {\n",
              "  /* Default theme specific background. It is overwritten whether we have a\n",
              "  specific estimator or a Pipeline/ColumnTransformer */\n",
              "  background-color: var(--sklearn-color-background);\n",
              "}\n",
              "\n",
              "/* Toggleable label */\n",
              "#sk-container-id-1 label.sk-toggleable__label {\n",
              "  cursor: pointer;\n",
              "  display: block;\n",
              "  width: 100%;\n",
              "  margin-bottom: 0;\n",
              "  padding: 0.5em;\n",
              "  box-sizing: border-box;\n",
              "  text-align: center;\n",
              "}\n",
              "\n",
              "#sk-container-id-1 label.sk-toggleable__label-arrow:before {\n",
              "  /* Arrow on the left of the label */\n",
              "  content: \"▸\";\n",
              "  float: left;\n",
              "  margin-right: 0.25em;\n",
              "  color: var(--sklearn-color-icon);\n",
              "}\n",
              "\n",
              "#sk-container-id-1 label.sk-toggleable__label-arrow:hover:before {\n",
              "  color: var(--sklearn-color-text);\n",
              "}\n",
              "\n",
              "/* Toggleable content - dropdown */\n",
              "\n",
              "#sk-container-id-1 div.sk-toggleable__content {\n",
              "  max-height: 0;\n",
              "  max-width: 0;\n",
              "  overflow: hidden;\n",
              "  text-align: left;\n",
              "  /* unfitted */\n",
              "  background-color: var(--sklearn-color-unfitted-level-0);\n",
              "}\n",
              "\n",
              "#sk-container-id-1 div.sk-toggleable__content.fitted {\n",
              "  /* fitted */\n",
              "  background-color: var(--sklearn-color-fitted-level-0);\n",
              "}\n",
              "\n",
              "#sk-container-id-1 div.sk-toggleable__content pre {\n",
              "  margin: 0.2em;\n",
              "  border-radius: 0.25em;\n",
              "  color: var(--sklearn-color-text);\n",
              "  /* unfitted */\n",
              "  background-color: var(--sklearn-color-unfitted-level-0);\n",
              "}\n",
              "\n",
              "#sk-container-id-1 div.sk-toggleable__content.fitted pre {\n",
              "  /* unfitted */\n",
              "  background-color: var(--sklearn-color-fitted-level-0);\n",
              "}\n",
              "\n",
              "#sk-container-id-1 input.sk-toggleable__control:checked~div.sk-toggleable__content {\n",
              "  /* Expand drop-down */\n",
              "  max-height: 200px;\n",
              "  max-width: 100%;\n",
              "  overflow: auto;\n",
              "}\n",
              "\n",
              "#sk-container-id-1 input.sk-toggleable__control:checked~label.sk-toggleable__label-arrow:before {\n",
              "  content: \"▾\";\n",
              "}\n",
              "\n",
              "/* Pipeline/ColumnTransformer-specific style */\n",
              "\n",
              "#sk-container-id-1 div.sk-label input.sk-toggleable__control:checked~label.sk-toggleable__label {\n",
              "  color: var(--sklearn-color-text);\n",
              "  background-color: var(--sklearn-color-unfitted-level-2);\n",
              "}\n",
              "\n",
              "#sk-container-id-1 div.sk-label.fitted input.sk-toggleable__control:checked~label.sk-toggleable__label {\n",
              "  background-color: var(--sklearn-color-fitted-level-2);\n",
              "}\n",
              "\n",
              "/* Estimator-specific style */\n",
              "\n",
              "/* Colorize estimator box */\n",
              "#sk-container-id-1 div.sk-estimator input.sk-toggleable__control:checked~label.sk-toggleable__label {\n",
              "  /* unfitted */\n",
              "  background-color: var(--sklearn-color-unfitted-level-2);\n",
              "}\n",
              "\n",
              "#sk-container-id-1 div.sk-estimator.fitted input.sk-toggleable__control:checked~label.sk-toggleable__label {\n",
              "  /* fitted */\n",
              "  background-color: var(--sklearn-color-fitted-level-2);\n",
              "}\n",
              "\n",
              "#sk-container-id-1 div.sk-label label.sk-toggleable__label,\n",
              "#sk-container-id-1 div.sk-label label {\n",
              "  /* The background is the default theme color */\n",
              "  color: var(--sklearn-color-text-on-default-background);\n",
              "}\n",
              "\n",
              "/* On hover, darken the color of the background */\n",
              "#sk-container-id-1 div.sk-label:hover label.sk-toggleable__label {\n",
              "  color: var(--sklearn-color-text);\n",
              "  background-color: var(--sklearn-color-unfitted-level-2);\n",
              "}\n",
              "\n",
              "/* Label box, darken color on hover, fitted */\n",
              "#sk-container-id-1 div.sk-label.fitted:hover label.sk-toggleable__label.fitted {\n",
              "  color: var(--sklearn-color-text);\n",
              "  background-color: var(--sklearn-color-fitted-level-2);\n",
              "}\n",
              "\n",
              "/* Estimator label */\n",
              "\n",
              "#sk-container-id-1 div.sk-label label {\n",
              "  font-family: monospace;\n",
              "  font-weight: bold;\n",
              "  display: inline-block;\n",
              "  line-height: 1.2em;\n",
              "}\n",
              "\n",
              "#sk-container-id-1 div.sk-label-container {\n",
              "  text-align: center;\n",
              "}\n",
              "\n",
              "/* Estimator-specific */\n",
              "#sk-container-id-1 div.sk-estimator {\n",
              "  font-family: monospace;\n",
              "  border: 1px dotted var(--sklearn-color-border-box);\n",
              "  border-radius: 0.25em;\n",
              "  box-sizing: border-box;\n",
              "  margin-bottom: 0.5em;\n",
              "  /* unfitted */\n",
              "  background-color: var(--sklearn-color-unfitted-level-0);\n",
              "}\n",
              "\n",
              "#sk-container-id-1 div.sk-estimator.fitted {\n",
              "  /* fitted */\n",
              "  background-color: var(--sklearn-color-fitted-level-0);\n",
              "}\n",
              "\n",
              "/* on hover */\n",
              "#sk-container-id-1 div.sk-estimator:hover {\n",
              "  /* unfitted */\n",
              "  background-color: var(--sklearn-color-unfitted-level-2);\n",
              "}\n",
              "\n",
              "#sk-container-id-1 div.sk-estimator.fitted:hover {\n",
              "  /* fitted */\n",
              "  background-color: var(--sklearn-color-fitted-level-2);\n",
              "}\n",
              "\n",
              "/* Specification for estimator info (e.g. \"i\" and \"?\") */\n",
              "\n",
              "/* Common style for \"i\" and \"?\" */\n",
              "\n",
              ".sk-estimator-doc-link,\n",
              "a:link.sk-estimator-doc-link,\n",
              "a:visited.sk-estimator-doc-link {\n",
              "  float: right;\n",
              "  font-size: smaller;\n",
              "  line-height: 1em;\n",
              "  font-family: monospace;\n",
              "  background-color: var(--sklearn-color-background);\n",
              "  border-radius: 1em;\n",
              "  height: 1em;\n",
              "  width: 1em;\n",
              "  text-decoration: none !important;\n",
              "  margin-left: 1ex;\n",
              "  /* unfitted */\n",
              "  border: var(--sklearn-color-unfitted-level-1) 1pt solid;\n",
              "  color: var(--sklearn-color-unfitted-level-1);\n",
              "}\n",
              "\n",
              ".sk-estimator-doc-link.fitted,\n",
              "a:link.sk-estimator-doc-link.fitted,\n",
              "a:visited.sk-estimator-doc-link.fitted {\n",
              "  /* fitted */\n",
              "  border: var(--sklearn-color-fitted-level-1) 1pt solid;\n",
              "  color: var(--sklearn-color-fitted-level-1);\n",
              "}\n",
              "\n",
              "/* On hover */\n",
              "div.sk-estimator:hover .sk-estimator-doc-link:hover,\n",
              ".sk-estimator-doc-link:hover,\n",
              "div.sk-label-container:hover .sk-estimator-doc-link:hover,\n",
              ".sk-estimator-doc-link:hover {\n",
              "  /* unfitted */\n",
              "  background-color: var(--sklearn-color-unfitted-level-3);\n",
              "  color: var(--sklearn-color-background);\n",
              "  text-decoration: none;\n",
              "}\n",
              "\n",
              "div.sk-estimator.fitted:hover .sk-estimator-doc-link.fitted:hover,\n",
              ".sk-estimator-doc-link.fitted:hover,\n",
              "div.sk-label-container:hover .sk-estimator-doc-link.fitted:hover,\n",
              ".sk-estimator-doc-link.fitted:hover {\n",
              "  /* fitted */\n",
              "  background-color: var(--sklearn-color-fitted-level-3);\n",
              "  color: var(--sklearn-color-background);\n",
              "  text-decoration: none;\n",
              "}\n",
              "\n",
              "/* Span, style for the box shown on hovering the info icon */\n",
              ".sk-estimator-doc-link span {\n",
              "  display: none;\n",
              "  z-index: 9999;\n",
              "  position: relative;\n",
              "  font-weight: normal;\n",
              "  right: .2ex;\n",
              "  padding: .5ex;\n",
              "  margin: .5ex;\n",
              "  width: min-content;\n",
              "  min-width: 20ex;\n",
              "  max-width: 50ex;\n",
              "  color: var(--sklearn-color-text);\n",
              "  box-shadow: 2pt 2pt 4pt #999;\n",
              "  /* unfitted */\n",
              "  background: var(--sklearn-color-unfitted-level-0);\n",
              "  border: .5pt solid var(--sklearn-color-unfitted-level-3);\n",
              "}\n",
              "\n",
              ".sk-estimator-doc-link.fitted span {\n",
              "  /* fitted */\n",
              "  background: var(--sklearn-color-fitted-level-0);\n",
              "  border: var(--sklearn-color-fitted-level-3);\n",
              "}\n",
              "\n",
              ".sk-estimator-doc-link:hover span {\n",
              "  display: block;\n",
              "}\n",
              "\n",
              "/* \"?\"-specific style due to the `<a>` HTML tag */\n",
              "\n",
              "#sk-container-id-1 a.estimator_doc_link {\n",
              "  float: right;\n",
              "  font-size: 1rem;\n",
              "  line-height: 1em;\n",
              "  font-family: monospace;\n",
              "  background-color: var(--sklearn-color-background);\n",
              "  border-radius: 1rem;\n",
              "  height: 1rem;\n",
              "  width: 1rem;\n",
              "  text-decoration: none;\n",
              "  /* unfitted */\n",
              "  color: var(--sklearn-color-unfitted-level-1);\n",
              "  border: var(--sklearn-color-unfitted-level-1) 1pt solid;\n",
              "}\n",
              "\n",
              "#sk-container-id-1 a.estimator_doc_link.fitted {\n",
              "  /* fitted */\n",
              "  border: var(--sklearn-color-fitted-level-1) 1pt solid;\n",
              "  color: var(--sklearn-color-fitted-level-1);\n",
              "}\n",
              "\n",
              "/* On hover */\n",
              "#sk-container-id-1 a.estimator_doc_link:hover {\n",
              "  /* unfitted */\n",
              "  background-color: var(--sklearn-color-unfitted-level-3);\n",
              "  color: var(--sklearn-color-background);\n",
              "  text-decoration: none;\n",
              "}\n",
              "\n",
              "#sk-container-id-1 a.estimator_doc_link.fitted:hover {\n",
              "  /* fitted */\n",
              "  background-color: var(--sklearn-color-fitted-level-3);\n",
              "}\n",
              "</style><div id=\"sk-container-id-1\" class=\"sk-top-container\"><div class=\"sk-text-repr-fallback\"><pre>MultinomialNB()</pre><b>In a Jupyter environment, please rerun this cell to show the HTML representation or trust the notebook. <br />On GitHub, the HTML representation is unable to render, please try loading this page with nbviewer.org.</b></div><div class=\"sk-container\" hidden><div class=\"sk-item\"><div class=\"sk-estimator fitted sk-toggleable\"><input class=\"sk-toggleable__control sk-hidden--visually\" id=\"sk-estimator-id-1\" type=\"checkbox\" checked><label for=\"sk-estimator-id-1\" class=\"sk-toggleable__label fitted sk-toggleable__label-arrow fitted\">&nbsp;&nbsp;MultinomialNB<a class=\"sk-estimator-doc-link fitted\" rel=\"noreferrer\" target=\"_blank\" href=\"https://scikit-learn.org/1.4/modules/generated/sklearn.naive_bayes.MultinomialNB.html\">?<span>Documentation for MultinomialNB</span></a><span class=\"sk-estimator-doc-link fitted\">i<span>Fitted</span></span></label><div class=\"sk-toggleable__content fitted\"><pre>MultinomialNB()</pre></div> </div></div></div></div>"
            ],
            "text/plain": [
              "MultinomialNB()"
            ]
          },
          "execution_count": 43,
          "metadata": {},
          "output_type": "execute_result"
        }
      ],
      "source": [
        "nb_classifier = MultinomialNB()\n",
        "nb_classifier.fit(x_train, y_train)"
      ]
    },
    {
      "cell_type": "code",
      "execution_count": null,
      "id": "23cd5166-68fa-47e1-b99f-df6b2d0a933b",
      "metadata": {
        "id": "23cd5166-68fa-47e1-b99f-df6b2d0a933b"
      },
      "outputs": [],
      "source": [
        "y_pred = nb_classifier.predict(x_test)"
      ]
    },
    {
      "cell_type": "code",
      "execution_count": null,
      "id": "9ab73b34-9e07-41c0-acfd-905ad06bd136",
      "metadata": {
        "id": "9ab73b34-9e07-41c0-acfd-905ad06bd136",
        "outputId": "49eeaebe-7516-4430-e273-c91ecbb27770"
      },
      "outputs": [
        {
          "data": {
            "text/plain": [
              "array(['talk.politics.misc', 'comp.sys.ibm.pc.hardware', 'sci.med',\n",
              "       'rec.sport.baseball', 'sci.electronics', 'sci.electronics',\n",
              "       'rec.sport.baseball', 'talk.politics.mideast', 'alt.atheism',\n",
              "       'sci.med', 'alt.atheism', 'sci.electronics', 'sci.crypt',\n",
              "       'comp.windows.x', 'comp.sys.ibm.pc.hardware',\n",
              "       'comp.os.ms-windows.misc', 'rec.autos', 'comp.graphics',\n",
              "       'talk.politics.guns', 'talk.politics.misc',\n",
              "       'comp.sys.mac.hardware', 'talk.politics.misc', 'alt.atheism',\n",
              "       'rec.sport.hockey', 'alt.atheism', 'sci.crypt', 'sci.crypt',\n",
              "       'rec.sport.baseball', 'rec.autos', 'alt.atheism',\n",
              "       'rec.sport.baseball', 'rec.sport.hockey', 'comp.windows.x',\n",
              "       'rec.sport.baseball', 'rec.sport.hockey', 'comp.sys.mac.hardware',\n",
              "       'sci.med', 'sci.electronics', 'rec.sport.hockey',\n",
              "       'comp.os.ms-windows.misc', 'comp.sys.ibm.pc.hardware',\n",
              "       'soc.religion.christian', 'comp.os.ms-windows.misc',\n",
              "       'comp.graphics', 'soc.religion.christian', 'rec.motorcycles',\n",
              "       'comp.windows.x', 'rec.motorcycles', 'alt.atheism',\n",
              "       'talk.politics.guns', 'soc.religion.christian',\n",
              "       'comp.os.ms-windows.misc', 'sci.space', 'comp.os.ms-windows.misc',\n",
              "       'rec.sport.baseball', 'talk.politics.mideast', 'sci.electronics',\n",
              "       'talk.politics.guns', 'sci.crypt', 'comp.sys.ibm.pc.hardware',\n",
              "       'sci.space', 'misc.forsale', 'talk.politics.guns',\n",
              "       'rec.sport.hockey', 'talk.politics.guns', 'talk.politics.misc',\n",
              "       'sci.med', 'soc.religion.christian', 'comp.graphics', 'sci.space',\n",
              "       'sci.space', 'comp.sys.ibm.pc.hardware', 'sci.med',\n",
              "       'rec.sport.hockey', 'rec.autos', 'comp.sys.ibm.pc.hardware',\n",
              "       'talk.politics.guns', 'rec.autos', 'sci.electronics',\n",
              "       'talk.politics.misc', 'alt.atheism', 'rec.motorcycles',\n",
              "       'sci.space', 'soc.religion.christian', 'talk.politics.misc',\n",
              "       'rec.sport.baseball', 'talk.politics.mideast',\n",
              "       'comp.sys.mac.hardware', 'comp.os.ms-windows.misc',\n",
              "       'talk.politics.guns', 'soc.religion.christian',\n",
              "       'talk.politics.mideast', 'comp.os.ms-windows.misc',\n",
              "       'comp.os.ms-windows.misc', 'talk.politics.misc',\n",
              "       'talk.politics.misc', 'misc.forsale', 'sci.electronics',\n",
              "       'soc.religion.christian', 'talk.politics.guns',\n",
              "       'rec.sport.baseball', 'rec.sport.baseball',\n",
              "       'comp.sys.mac.hardware', 'sci.med', 'comp.os.ms-windows.misc',\n",
              "       'rec.motorcycles', 'misc.forsale', 'comp.os.ms-windows.misc',\n",
              "       'misc.forsale', 'comp.windows.x', 'rec.autos', 'sci.space',\n",
              "       'rec.sport.hockey', 'talk.politics.mideast', 'rec.autos',\n",
              "       'sci.electronics', 'sci.crypt', 'rec.sport.baseball',\n",
              "       'comp.sys.ibm.pc.hardware', 'sci.electronics',\n",
              "       'talk.politics.misc', 'rec.sport.hockey', 'sci.crypt',\n",
              "       'comp.sys.mac.hardware', 'comp.sys.ibm.pc.hardware',\n",
              "       'soc.religion.christian', 'comp.sys.mac.hardware',\n",
              "       'rec.motorcycles', 'sci.crypt', 'comp.sys.ibm.pc.hardware',\n",
              "       'talk.religion.misc', 'talk.politics.misc', 'rec.autos',\n",
              "       'comp.windows.x', 'rec.motorcycles', 'rec.sport.baseball',\n",
              "       'alt.atheism', 'alt.atheism', 'talk.politics.guns',\n",
              "       'soc.religion.christian', 'sci.med', 'comp.sys.ibm.pc.hardware',\n",
              "       'talk.politics.guns', 'rec.motorcycles', 'soc.religion.christian',\n",
              "       'comp.windows.x', 'misc.forsale', 'comp.sys.mac.hardware',\n",
              "       'comp.os.ms-windows.misc', 'comp.graphics', 'talk.politics.guns',\n",
              "       'rec.sport.baseball', 'misc.forsale', 'sci.crypt',\n",
              "       'comp.sys.ibm.pc.hardware', 'comp.graphics', 'comp.windows.x',\n",
              "       'talk.politics.guns', 'comp.windows.x', 'talk.politics.guns',\n",
              "       'misc.forsale', 'rec.motorcycles', 'comp.graphics', 'sci.crypt',\n",
              "       'talk.religion.misc', 'sci.space', 'talk.politics.mideast',\n",
              "       'sci.electronics', 'comp.os.ms-windows.misc',\n",
              "       'talk.politics.mideast', 'sci.crypt', 'misc.forsale',\n",
              "       'alt.atheism', 'talk.politics.misc', 'comp.sys.mac.hardware',\n",
              "       'sci.med', 'rec.autos', 'sci.med', 'rec.motorcycles', 'sci.crypt',\n",
              "       'sci.electronics', 'rec.autos', 'talk.politics.misc', 'sci.crypt',\n",
              "       'rec.motorcycles', 'rec.autos', 'alt.atheism',\n",
              "       'talk.politics.guns', 'sci.crypt', 'sci.electronics', 'rec.autos',\n",
              "       'comp.os.ms-windows.misc', 'sci.med', 'comp.os.ms-windows.misc',\n",
              "       'talk.religion.misc', 'comp.sys.mac.hardware', 'sci.crypt',\n",
              "       'rec.motorcycles', 'misc.forsale', 'soc.religion.christian',\n",
              "       'talk.politics.misc', 'comp.windows.x', 'comp.graphics',\n",
              "       'rec.autos', 'comp.sys.mac.hardware', 'comp.os.ms-windows.misc',\n",
              "       'sci.space', 'comp.graphics', 'rec.sport.hockey', 'alt.atheism',\n",
              "       'talk.politics.mideast', 'alt.atheism', 'comp.os.ms-windows.misc',\n",
              "       'comp.graphics', 'rec.autos', 'talk.politics.misc', 'sci.crypt',\n",
              "       'comp.sys.ibm.pc.hardware', 'sci.electronics', 'sci.electronics',\n",
              "       'rec.sport.baseball', 'comp.graphics', 'comp.windows.x',\n",
              "       'sci.crypt', 'talk.politics.misc', 'talk.religion.misc',\n",
              "       'comp.sys.mac.hardware', 'comp.graphics', 'talk.politics.guns',\n",
              "       'comp.sys.ibm.pc.hardware', 'alt.atheism',\n",
              "       'comp.os.ms-windows.misc', 'talk.politics.guns',\n",
              "       'talk.politics.guns', 'talk.politics.mideast',\n",
              "       'comp.sys.ibm.pc.hardware', 'rec.sport.hockey', 'rec.motorcycles',\n",
              "       'sci.med', 'comp.windows.x', 'rec.autos', 'soc.religion.christian',\n",
              "       'comp.windows.x', 'rec.sport.baseball', 'sci.med', 'comp.graphics',\n",
              "       'rec.motorcycles', 'talk.religion.misc', 'rec.motorcycles',\n",
              "       'comp.windows.x', 'rec.sport.hockey', 'comp.sys.ibm.pc.hardware',\n",
              "       'sci.crypt', 'comp.sys.mac.hardware', 'sci.space',\n",
              "       'rec.sport.hockey', 'comp.windows.x', 'misc.forsale',\n",
              "       'talk.politics.misc', 'sci.electronics', 'alt.atheism',\n",
              "       'soc.religion.christian', 'alt.atheism', 'alt.atheism',\n",
              "       'rec.sport.hockey', 'soc.religion.christian',\n",
              "       'comp.sys.ibm.pc.hardware', 'comp.graphics',\n",
              "       'comp.os.ms-windows.misc', 'rec.sport.hockey', 'sci.med',\n",
              "       'alt.atheism', 'comp.sys.mac.hardware', 'talk.politics.guns',\n",
              "       'alt.atheism', 'alt.atheism', 'comp.os.ms-windows.misc',\n",
              "       'comp.sys.mac.hardware', 'sci.space', 'comp.sys.ibm.pc.hardware',\n",
              "       'alt.atheism', 'sci.space', 'misc.forsale', 'sci.med', 'sci.med',\n",
              "       'alt.atheism', 'comp.os.ms-windows.misc', 'talk.politics.mideast',\n",
              "       'alt.atheism', 'rec.sport.baseball', 'comp.sys.mac.hardware',\n",
              "       'soc.religion.christian', 'sci.space', 'talk.politics.guns',\n",
              "       'comp.windows.x', 'comp.sys.ibm.pc.hardware', 'talk.religion.misc',\n",
              "       'talk.politics.mideast', 'talk.politics.misc',\n",
              "       'comp.sys.mac.hardware', 'comp.windows.x', 'alt.atheism',\n",
              "       'talk.politics.guns', 'sci.space', 'rec.autos',\n",
              "       'talk.religion.misc', 'sci.crypt', 'sci.med', 'rec.sport.baseball',\n",
              "       'alt.atheism', 'rec.sport.hockey', 'talk.politics.guns',\n",
              "       'sci.electronics', 'rec.sport.baseball', 'rec.sport.hockey',\n",
              "       'comp.graphics', 'soc.religion.christian',\n",
              "       'soc.religion.christian', 'talk.politics.misc',\n",
              "       'soc.religion.christian', 'alt.atheism', 'talk.politics.guns',\n",
              "       'comp.graphics', 'comp.sys.ibm.pc.hardware', 'rec.sport.baseball',\n",
              "       'comp.windows.x', 'talk.religion.misc', 'misc.forsale',\n",
              "       'talk.politics.guns', 'rec.autos', 'comp.sys.ibm.pc.hardware',\n",
              "       'comp.sys.ibm.pc.hardware', 'soc.religion.christian',\n",
              "       'comp.windows.x', 'comp.sys.ibm.pc.hardware',\n",
              "       'talk.politics.mideast', 'comp.os.ms-windows.misc',\n",
              "       'comp.graphics', 'sci.crypt', 'alt.atheism', 'sci.space',\n",
              "       'comp.sys.ibm.pc.hardware', 'alt.atheism', 'rec.motorcycles',\n",
              "       'comp.windows.x', 'talk.politics.guns', 'comp.sys.ibm.pc.hardware',\n",
              "       'alt.atheism', 'soc.religion.christian', 'rec.sport.baseball',\n",
              "       'comp.graphics', 'comp.sys.mac.hardware', 'sci.space',\n",
              "       'talk.politics.guns', 'comp.graphics', 'comp.windows.x',\n",
              "       'talk.politics.mideast', 'talk.politics.mideast', 'sci.med',\n",
              "       'sci.crypt', 'comp.sys.mac.hardware', 'comp.sys.ibm.pc.hardware',\n",
              "       'rec.autos', 'rec.sport.hockey', 'misc.forsale',\n",
              "       'comp.sys.mac.hardware', 'talk.politics.mideast',\n",
              "       'sci.electronics', 'sci.crypt', 'comp.os.ms-windows.misc',\n",
              "       'soc.religion.christian', 'talk.politics.mideast', 'alt.atheism',\n",
              "       'talk.politics.misc', 'soc.religion.christian',\n",
              "       'soc.religion.christian', 'comp.sys.mac.hardware',\n",
              "       'talk.politics.mideast', 'talk.politics.misc', 'sci.space',\n",
              "       'sci.space', 'sci.electronics', 'comp.sys.mac.hardware',\n",
              "       'talk.politics.guns', 'comp.graphics', 'rec.autos',\n",
              "       'comp.graphics', 'sci.space', 'misc.forsale',\n",
              "       'soc.religion.christian', 'talk.politics.mideast',\n",
              "       'talk.politics.misc', 'comp.sys.mac.hardware', 'rec.autos',\n",
              "       'comp.windows.x', 'rec.sport.baseball', 'rec.motorcycles',\n",
              "       'talk.politics.mideast', 'comp.sys.ibm.pc.hardware',\n",
              "       'comp.windows.x'], dtype='<U24')"
            ]
          },
          "execution_count": 47,
          "metadata": {},
          "output_type": "execute_result"
        }
      ],
      "source": [
        "y_pred"
      ]
    },
    {
      "cell_type": "code",
      "execution_count": null,
      "id": "6bf3df68-9b5b-45d1-bcdc-6e67f007ee84",
      "metadata": {
        "id": "6bf3df68-9b5b-45d1-bcdc-6e67f007ee84",
        "outputId": "9492f0e8-a0ac-4f6e-dd2f-58211870eebb"
      },
      "outputs": [
        {
          "name": "stdout",
          "output_type": "stream",
          "text": [
            "Accuracy: 0.84\n",
            "Precision: 0.8466866785175607\n",
            "Recall: 0.84\n",
            "F1 Score: 0.8330936672448417\n",
            "\n",
            "Classification Report:\n",
            "                           precision    recall  f1-score   support\n",
            "\n",
            "             alt.atheism       0.50      0.83      0.62        18\n",
            "           comp.graphics       0.75      0.83      0.79        18\n",
            " comp.os.ms-windows.misc       0.91      0.91      0.91        22\n",
            "comp.sys.ibm.pc.hardware       0.81      0.84      0.82        25\n",
            "   comp.sys.mac.hardware       0.86      0.90      0.88        21\n",
            "          comp.windows.x       0.95      0.84      0.89        25\n",
            "            misc.forsale       1.00      0.78      0.88        18\n",
            "               rec.autos       0.95      1.00      0.97        18\n",
            "         rec.motorcycles       0.94      0.94      0.94        16\n",
            "      rec.sport.baseball       0.80      0.89      0.84        18\n",
            "        rec.sport.hockey       0.88      1.00      0.94        15\n",
            "               sci.crypt       0.90      1.00      0.95        19\n",
            "         sci.electronics       0.67      0.75      0.71        16\n",
            "                 sci.med       0.88      0.88      0.88        17\n",
            "               sci.space       1.00      0.86      0.92        21\n",
            "  soc.religion.christian       0.92      0.96      0.94        23\n",
            "      talk.politics.guns       0.85      0.79      0.81        28\n",
            "   talk.politics.mideast       0.95      0.90      0.92        20\n",
            "      talk.politics.misc       0.76      0.89      0.82        18\n",
            "      talk.religion.misc       0.62      0.21      0.31        24\n",
            "\n",
            "                accuracy                           0.84       400\n",
            "               macro avg       0.85      0.85      0.84       400\n",
            "            weighted avg       0.85      0.84      0.83       400\n",
            "\n"
          ]
        }
      ],
      "source": [
        "# Evaluate the model\n",
        "print(\"Accuracy:\", accuracy_score(y_test, y_pred))\n",
        "print(\"Precision:\", precision_score(y_test, y_pred, average='weighted'))\n",
        "print(\"Recall:\", recall_score(y_test, y_pred, average='weighted'))\n",
        "print(\"F1 Score:\", f1_score(y_test, y_pred, average='weighted'))\n",
        "print(\"\\nClassification Report:\\n\", classification_report(y_test, y_pred))"
      ]
    },
    {
      "cell_type": "markdown",
      "id": "67795729-76c3-4387-b5ea-90709aaab396",
      "metadata": {
        "id": "67795729-76c3-4387-b5ea-90709aaab396"
      },
      "source": [
        "## 3. Sentiment Analysis"
      ]
    },
    {
      "cell_type": "code",
      "execution_count": null,
      "id": "d5ed0fe1-1c59-4fa5-bc21-4420ed301ac0",
      "metadata": {
        "id": "d5ed0fe1-1c59-4fa5-bc21-4420ed301ac0",
        "outputId": "ad1ec021-9ad6-4614-91cb-aadda746fcc7"
      },
      "outputs": [
        {
          "name": "stdout",
          "output_type": "stream",
          "text": [
            "Collecting textblob\n",
            "  Downloading textblob-0.18.0.post0-py3-none-any.whl.metadata (4.5 kB)\n",
            "Requirement already satisfied: nltk>=3.8 in c:\\users\\lenovo\\anaconda\\lib\\site-packages (from textblob) (3.8.1)\n",
            "Requirement already satisfied: click in c:\\users\\lenovo\\anaconda\\lib\\site-packages (from nltk>=3.8->textblob) (8.1.7)\n",
            "Requirement already satisfied: joblib in c:\\users\\lenovo\\anaconda\\lib\\site-packages (from nltk>=3.8->textblob) (1.4.2)\n",
            "Requirement already satisfied: regex>=2021.8.3 in c:\\users\\lenovo\\anaconda\\lib\\site-packages (from nltk>=3.8->textblob) (2023.10.3)\n",
            "Requirement already satisfied: tqdm in c:\\users\\lenovo\\anaconda\\lib\\site-packages (from nltk>=3.8->textblob) (4.66.4)\n",
            "Requirement already satisfied: colorama in c:\\users\\lenovo\\anaconda\\lib\\site-packages (from click->nltk>=3.8->textblob) (0.4.6)\n",
            "Downloading textblob-0.18.0.post0-py3-none-any.whl (626 kB)\n",
            "   ---------------------------------------- 0.0/626.3 kB ? eta -:--:--\n",
            "   ---------------------------------------- 0.0/626.3 kB ? eta -:--:--\n",
            "   ---------------------------------------- 0.0/626.3 kB ? eta -:--:--\n",
            "   -- ------------------------------------- 41.0/626.3 kB 1.9 MB/s eta 0:00:01\n",
            "   ----- ---------------------------------- 92.2/626.3 kB 1.1 MB/s eta 0:00:01\n",
            "   --------- ------------------------------ 153.6/626.3 kB 1.3 MB/s eta 0:00:01\n",
            "   -------------- ------------------------- 225.3/626.3 kB 1.3 MB/s eta 0:00:01\n",
            "   ---------------- ----------------------- 256.0/626.3 kB 1.1 MB/s eta 0:00:01\n",
            "   ------------------ --------------------- 286.7/626.3 kB 1.1 MB/s eta 0:00:01\n",
            "   --------------------- ------------------ 337.9/626.3 kB 1.1 MB/s eta 0:00:01\n",
            "   ------------------------ --------------- 389.1/626.3 kB 1.1 MB/s eta 0:00:01\n",
            "   ---------------------------- ----------- 440.3/626.3 kB 1.1 MB/s eta 0:00:01\n",
            "   -------------------------------- ------- 501.8/626.3 kB 1.1 MB/s eta 0:00:01\n",
            "   ----------------------------------- ---- 563.2/626.3 kB 1.1 MB/s eta 0:00:01\n",
            "   ---------------------------------------  624.6/626.3 kB 1.1 MB/s eta 0:00:01\n",
            "   ---------------------------------------- 626.3/626.3 kB 1.1 MB/s eta 0:00:00\n",
            "Installing collected packages: textblob\n",
            "Successfully installed textblob-0.18.0.post0\n"
          ]
        }
      ],
      "source": [
        "!pip install textblob"
      ]
    },
    {
      "cell_type": "code",
      "execution_count": null,
      "id": "dc01c928-b1f0-4157-9531-48d57c785e57",
      "metadata": {
        "id": "dc01c928-b1f0-4157-9531-48d57c785e57"
      },
      "outputs": [],
      "source": [
        "from textblob import TextBlob"
      ]
    },
    {
      "cell_type": "code",
      "execution_count": null,
      "id": "09d57b38-9a39-4aa2-a9dd-13237eef9b18",
      "metadata": {
        "id": "09d57b38-9a39-4aa2-a9dd-13237eef9b18"
      },
      "outputs": [],
      "source": [
        "def get_sentiment(text):\n",
        "    analysis = TextBlob(text)\n",
        "    if analysis.sentiment.polarity > 0:\n",
        "        return 'Positive'\n",
        "    elif analysis.sentiment.polarity == 0:\n",
        "        return 'Neutral'\n",
        "    else:\n",
        "        return 'Negative'\n"
      ]
    },
    {
      "cell_type": "code",
      "execution_count": null,
      "id": "720cd162-52ea-4e9e-b6f6-2909881f3e0a",
      "metadata": {
        "id": "720cd162-52ea-4e9e-b6f6-2909881f3e0a"
      },
      "outputs": [],
      "source": [
        "df['Sentiment'] = df['Data'].apply(get_sentiment)"
      ]
    },
    {
      "cell_type": "code",
      "execution_count": null,
      "id": "d99acd68-70d6-4d5a-8e92-409119a2a4dd",
      "metadata": {
        "id": "d99acd68-70d6-4d5a-8e92-409119a2a4dd",
        "outputId": "dbd19fec-f3ab-4ab1-d14a-1898803e70fb"
      },
      "outputs": [
        {
          "name": "stdout",
          "output_type": "stream",
          "text": [
            "Sentiment\n",
            "Positive    1452\n",
            "Negative     545\n",
            "Neutral        3\n",
            "Name: count, dtype: int64\n"
          ]
        }
      ],
      "source": [
        "print(df['Sentiment'].value_counts())"
      ]
    },
    {
      "cell_type": "code",
      "execution_count": null,
      "id": "478db2ad-fd84-424a-8656-3c732bdc6608",
      "metadata": {
        "id": "478db2ad-fd84-424a-8656-3c732bdc6608",
        "outputId": "38f48288-90ff-49f4-85ea-bcea96d55825"
      },
      "outputs": [
        {
          "name": "stdout",
          "output_type": "stream",
          "text": [
            "Sentiment                 Negative  Neutral  Positive\n",
            "Labels                                               \n",
            "alt.atheism                   0.35      NaN      0.65\n",
            "comp.graphics                 0.28      NaN      0.72\n",
            "comp.os.ms-windows.misc       0.23      NaN      0.77\n",
            "comp.sys.ibm.pc.hardware      0.19      NaN      0.81\n",
            "comp.sys.mac.hardware         0.26      NaN      0.74\n",
            "comp.windows.x                0.20     0.02      0.78\n",
            "misc.forsale                  0.21      NaN      0.79\n",
            "rec.autos                     0.24      NaN      0.76\n",
            "rec.motorcycles               0.28      NaN      0.72\n",
            "rec.sport.baseball            0.35      NaN      0.65\n",
            "rec.sport.hockey              0.40      NaN      0.60\n",
            "sci.crypt                     0.19      NaN      0.81\n",
            "sci.electronics               0.25      NaN      0.75\n",
            "sci.med                       0.34      NaN      0.66\n",
            "sci.space                     0.28      NaN      0.72\n",
            "soc.religion.christian        0.25      NaN      0.75\n",
            "talk.politics.guns            0.40     0.01      0.59\n",
            "talk.politics.mideast         0.29      NaN      0.71\n",
            "talk.politics.misc            0.26      NaN      0.74\n",
            "talk.religion.misc            0.20      NaN      0.80\n"
          ]
        }
      ],
      "source": [
        "sentiment_distribution = df.groupby('Labels')['Sentiment'].value_counts(normalize=True).unstack()\n",
        "print(sentiment_distribution)"
      ]
    },
    {
      "cell_type": "code",
      "execution_count": null,
      "id": "cf36071a-b5fb-49ce-946e-76eb14450338",
      "metadata": {
        "id": "cf36071a-b5fb-49ce-946e-76eb14450338",
        "outputId": "bd52bdb8-0a6d-44c8-d5c7-134f0320af55"
      },
      "outputs": [
        {
          "data": {
            "image/png": "[encoded data removed]",
            "text/plain": [
              "<Figure size 1400x700 with 1 Axes>"
            ]
          },
          "metadata": {},
          "output_type": "display_data"
        }
      ],
      "source": [
        "# Plotting of distribution of sentiments\n",
        "sentiment_distribution.plot(kind='bar', stacked=True, figsize=(14, 7))\n",
        "plt.title('Sentiment Distribution Across Categories')\n",
        "plt.show()"
      ]
    },
    {
      "cell_type": "markdown",
      "id": "35c1a03d-3be1-4aa2-908f-9d86009ae11c",
      "metadata": {
        "id": "35c1a03d-3be1-4aa2-908f-9d86009ae11c"
      },
      "source": [
        "### 4. Evaluation`"
      ]
    },
    {
      "cell_type": "code",
      "execution_count": null,
      "id": "b6df83a8-8f92-4928-b462-1ff6e939e3b5",
      "metadata": {
        "id": "b6df83a8-8f92-4928-b462-1ff6e939e3b5",
        "outputId": "4cb7ee80-317a-4fd0-ec71-6f74226c727f"
      },
      "outputs": [
        {
          "name": "stdout",
          "output_type": "stream",
          "text": [
            "Accuracy: 0.84\n",
            "Precision: 0.8466866785175607\n",
            "Recall: 0.84\n",
            "F1 Score: 0.8330936672448417\n",
            "\n",
            "Classification Report:\n",
            "                           precision    recall  f1-score   support\n",
            "\n",
            "             alt.atheism       0.50      0.83      0.62        18\n",
            "           comp.graphics       0.75      0.83      0.79        18\n",
            " comp.os.ms-windows.misc       0.91      0.91      0.91        22\n",
            "comp.sys.ibm.pc.hardware       0.81      0.84      0.82        25\n",
            "   comp.sys.mac.hardware       0.86      0.90      0.88        21\n",
            "          comp.windows.x       0.95      0.84      0.89        25\n",
            "            misc.forsale       1.00      0.78      0.88        18\n",
            "               rec.autos       0.95      1.00      0.97        18\n",
            "         rec.motorcycles       0.94      0.94      0.94        16\n",
            "      rec.sport.baseball       0.80      0.89      0.84        18\n",
            "        rec.sport.hockey       0.88      1.00      0.94        15\n",
            "               sci.crypt       0.90      1.00      0.95        19\n",
            "         sci.electronics       0.67      0.75      0.71        16\n",
            "                 sci.med       0.88      0.88      0.88        17\n",
            "               sci.space       1.00      0.86      0.92        21\n",
            "  soc.religion.christian       0.92      0.96      0.94        23\n",
            "      talk.politics.guns       0.85      0.79      0.81        28\n",
            "   talk.politics.mideast       0.95      0.90      0.92        20\n",
            "      talk.politics.misc       0.76      0.89      0.82        18\n",
            "      talk.religion.misc       0.62      0.21      0.31        24\n",
            "\n",
            "                accuracy                           0.84       400\n",
            "               macro avg       0.85      0.85      0.84       400\n",
            "            weighted avg       0.85      0.84      0.83       400\n",
            "\n"
          ]
        }
      ],
      "source": [
        "# Evaluate the model\n",
        "print(\"Accuracy:\", accuracy_score(y_test, y_pred))\n",
        "print(\"Precision:\", precision_score(y_test, y_pred, average='weighted'))\n",
        "print(\"Recall:\", recall_score(y_test, y_pred, average='weighted'))\n",
        "print(\"F1 Score:\", f1_score(y_test, y_pred, average='weighted'))\n",
        "print(\"\\nClassification Report:\\n\", classification_report(y_test, y_pred))"
      ]
    },
    {
      "cell_type": "code",
      "execution_count": null,
      "id": "95364813-0496-42d2-99c9-c57116d89067",
      "metadata": {
        "id": "95364813-0496-42d2-99c9-c57116d89067",
        "outputId": "e1ff3e4f-2ad7-40f8-c3ce-21bf1517975a"
      },
      "outputs": [
        {
          "name": "stdout",
          "output_type": "stream",
          "text": [
            "Model Evaluation Summary:\n",
            "The Naive Bayes classifier achieved an accuracy of 84.00%, a precision of 84.67%, a recall of 84.00%, and an F1 score of 83.31% on the test set.\n",
            "\n",
            "Sentiment Analysis Summary:\n",
            "The sentiment analysis revealed the following distribution of sentiments across different categories:\n",
            "Sentiment                 Negative  Neutral  Positive\n",
            "Labels                                               \n",
            "alt.atheism                   0.35      NaN      0.65\n",
            "comp.graphics                 0.28      NaN      0.72\n",
            "comp.os.ms-windows.misc       0.23      NaN      0.77\n",
            "comp.sys.ibm.pc.hardware      0.19      NaN      0.81\n",
            "comp.sys.mac.hardware         0.26      NaN      0.74\n",
            "comp.windows.x                0.20     0.02      0.78\n",
            "misc.forsale                  0.21      NaN      0.79\n",
            "rec.autos                     0.24      NaN      0.76\n",
            "rec.motorcycles               0.28      NaN      0.72\n",
            "rec.sport.baseball            0.35      NaN      0.65\n",
            "rec.sport.hockey              0.40      NaN      0.60\n",
            "sci.crypt                     0.19      NaN      0.81\n",
            "sci.electronics               0.25      NaN      0.75\n",
            "sci.med                       0.34      NaN      0.66\n",
            "sci.space                     0.28      NaN      0.72\n",
            "soc.religion.christian        0.25      NaN      0.75\n",
            "talk.politics.guns            0.40     0.01      0.59\n",
            "talk.politics.mideast         0.29      NaN      0.71\n",
            "talk.politics.misc            0.26      NaN      0.74\n",
            "talk.religion.misc            0.20      NaN      0.80\n",
            "\n",
            "Challenges and Observations:\n",
            "1. Text preprocessing is crucial for achieving good performance with text classification models.\n",
            "2. Balancing the dataset and handling class imbalance can be challenging.\n",
            "3. Sentiment analysis provides insights into the emotional tone of the blog posts, which can be useful for understanding the content better.\n"
          ]
        }
      ],
      "source": [
        "# Summarize the findings and discuss any challenges.\n",
        "\n",
        "print(\"Model Evaluation Summary:\")\n",
        "print(\"The Naive Bayes classifier achieved an accuracy of {:.2f}%, a precision of {:.2f}%, a recall of {:.2f}%, and an F1 score of {:.2f}% on the test set.\".format(\n",
        "    accuracy_score(y_test, y_pred) * 100,\n",
        "    precision_score(y_test, y_pred, average='weighted') * 100,\n",
        "    recall_score(y_test, y_pred, average='weighted') * 100,\n",
        "    f1_score(y_test, y_pred, average='weighted') * 100\n",
        "))\n",
        "\n",
        "print(\"\\nSentiment Analysis Summary:\")\n",
        "print(\"The sentiment analysis revealed the following distribution of sentiments across different categories:\")\n",
        "print(sentiment_distribution)\n",
        "\n",
        "print(\"\\nChallenges and Observations:\")\n",
        "print(\"1. Text preprocessing is crucial for achieving good performance with text classification models.\")\n",
        "print(\"2. Balancing the dataset and handling class imbalance can be challenging.\")\n",
        "print(\"3. Sentiment analysis provides insights into the emotional tone of the blog posts, which can be useful for understanding the content better.\")"
      ]
    },
    {
      "cell_type": "code",
      "execution_count": null,
      "id": "7ec426e8-4118-418f-87b1-a3e2ba427429",
      "metadata": {
        "id": "7ec426e8-4118-418f-87b1-a3e2ba427429"
      },
      "outputs": [],
      "source": []
    }
  ],
  "metadata": {
    "kernelspec": {
      "display_name": "Python 3 (ipykernel)",
      "language": "python",
      "name": "python3"
    },
    "language_info": {
      "codemirror_mode": {
        "name": "ipython",
        "version": 3
      },
      "file_extension": ".py",
      "mimetype": "text/x-python",
      "name": "python",
      "nbconvert_exporter": "python",
      "pygments_lexer": "ipython3",
      "version": "3.12.4"
    },
    "colab": {
      "provenance": []
    }
  },
  "nbformat": 4,
  "nbformat_minor": 5
}